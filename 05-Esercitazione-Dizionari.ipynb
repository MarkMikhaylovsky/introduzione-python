{
 "cells": [
  {
   "cell_type": "markdown",
   "id": "5c59fe75",
   "metadata": {},
   "source": [
    "# Dizionari\n",
    "Sono strutture dati in grado di associare un valore ad una Key.\n",
    "Le Keys appartengono ad un SET, mentre i valori appartengono ad una LIST\n",
    "\n",
    "La struttura del dizionario prevedere nome_var[nome_key] = valore\n",
    "- Es. creiamo un modello in cui associamo ad ogni città il suo stato"
   ]
  },
  {
   "cell_type": "code",
   "execution_count": 1,
   "id": "9eddba35",
   "metadata": {},
   "outputs": [
    {
     "name": "stdout",
     "output_type": "stream",
     "text": [
      "{'Roma': 'Italia', 'Napoli': 'Italia', 'Barcellona': 'Spagna'}\n"
     ]
    }
   ],
   "source": [
    "elenco_citta = dict()\n",
    "elenco_citta['Roma'] = 'Francia'\n",
    "elenco_citta['Roma'] = 'Italia'\n",
    "elenco_citta['Napoli'] = 'Italia'\n",
    "elenco_citta['Barcellona'] = 'Spagna'\n",
    "print(elenco_citta)"
   ]
  },
  {
   "cell_type": "markdown",
   "id": "54de868a",
   "metadata": {},
   "source": [
    "I dizionari permettono l'accesso al set di tutte le chiavi"
   ]
  },
  {
   "cell_type": "code",
   "execution_count": 2,
   "id": "8523f7af",
   "metadata": {},
   "outputs": [
    {
     "data": {
      "text/plain": [
       "dict_keys(['Roma', 'Napoli', 'Barcellona'])"
      ]
     },
     "execution_count": 2,
     "metadata": {},
     "output_type": "execute_result"
    }
   ],
   "source": [
    "elenco_citta.keys()"
   ]
  },
  {
   "cell_type": "markdown",
   "id": "2629d1d4",
   "metadata": {},
   "source": [
    "Avendo un elenco di città, è possibile ricavare lo stato di appartenenza"
   ]
  },
  {
   "cell_type": "code",
   "execution_count": 3,
   "id": "613ffa7a",
   "metadata": {},
   "outputs": [
    {
     "name": "stdout",
     "output_type": "stream",
     "text": [
      "['Italia', 'Italia', 'Spagna']\n"
     ]
    }
   ],
   "source": [
    "lista_citta = ['Roma', 'Napoli', 'Barcellona']\n",
    "lista_stati = [elenco_citta[citta] for citta in lista_citta]\n",
    "print(lista_stati)"
   ]
  },
  {
   "cell_type": "code",
   "execution_count": 4,
   "id": "f5d8f55b",
   "metadata": {},
   "outputs": [
    {
     "data": {
      "text/plain": [
       "dict_values(['Italia', 'Italia', 'Spagna'])"
      ]
     },
     "execution_count": 4,
     "metadata": {},
     "output_type": "execute_result"
    }
   ],
   "source": [
    "elenco_citta.values()"
   ]
  },
  {
   "cell_type": "markdown",
   "id": "2483fa55",
   "metadata": {},
   "source": [
    "*ES: Ottenenere una lista di stati contenuti in elenco_città corrispondeti solo a città che hanno all'interno del proprio nome la lettera \"r\"*"
   ]
  },
  {
   "cell_type": "code",
   "execution_count": 5,
   "id": "d8f970b8",
   "metadata": {},
   "outputs": [
    {
     "name": "stdout",
     "output_type": "stream",
     "text": [
      "['Spagna']\n"
     ]
    }
   ],
   "source": [
    "lista_r = [elenco_citta[citta]  for citta in elenco_citta.keys() if 'r' in citta]\n",
    "print(lista_r)"
   ]
  },
  {
   "cell_type": "markdown",
   "id": "693bf816",
   "metadata": {},
   "source": [
    "Inizializzare un dizionario con più valori:"
   ]
  },
  {
   "cell_type": "code",
   "execution_count": 6,
   "id": "ad0f5a0c",
   "metadata": {},
   "outputs": [
    {
     "name": "stdout",
     "output_type": "stream",
     "text": [
      "{'key_1': 'value_1', 'key_2': 'value_2'}\n"
     ]
    }
   ],
   "source": [
    "d = {\n",
    "    'key_1': 'value_1',\n",
    "    'key_2': 'value_2'\n",
    "}\n",
    "print(d)"
   ]
  },
  {
   "cell_type": "markdown",
   "id": "e47bb1c8",
   "metadata": {},
   "source": [
    "Eliminare un valore da un dizionario:"
   ]
  },
  {
   "cell_type": "code",
   "execution_count": 7,
   "id": "e938a388",
   "metadata": {},
   "outputs": [
    {
     "name": "stdout",
     "output_type": "stream",
     "text": [
      "{'key_2': 'value_2'}\n"
     ]
    }
   ],
   "source": [
    "del d['key_1']\n",
    "print(d)"
   ]
  },
  {
   "cell_type": "markdown",
   "id": "cdd2c030",
   "metadata": {},
   "source": [
    "#### Dictionary comprehension\n",
    "Rigiro un dizionario invertendo key and values"
   ]
  },
  {
   "cell_type": "code",
   "execution_count": 8,
   "id": "d8810059",
   "metadata": {},
   "outputs": [
    {
     "name": "stdout",
     "output_type": "stream",
     "text": [
      "{'value_1': 'key_1', 'value_2': 'key_2'}\n"
     ]
    }
   ],
   "source": [
    "d = {\n",
    "    'key_1': 'value_1',\n",
    "    'key_2': 'value_2'\n",
    "}\n",
    "\n",
    "d_inv = {value: key for key, value in d.items()}\n",
    "print(d_inv)"
   ]
  },
  {
   "cell_type": "code",
   "execution_count": 9,
   "id": "6325b312",
   "metadata": {},
   "outputs": [
    {
     "data": {
      "text/plain": [
       "dict_items([('key_1', 'value_1'), ('key_2', 'value_2')])"
      ]
     },
     "execution_count": 9,
     "metadata": {},
     "output_type": "execute_result"
    }
   ],
   "source": [
    "d.items()"
   ]
  },
  {
   "cell_type": "markdown",
   "id": "55fe67ab",
   "metadata": {},
   "source": [
    "Creare un dizionario con i nomi delle città maiuscoli"
   ]
  },
  {
   "cell_type": "code",
   "execution_count": 12,
   "id": "0ddf278c",
   "metadata": {},
   "outputs": [
    {
     "name": "stdout",
     "output_type": "stream",
     "text": [
      "{'Roma': 'ITALIA', 'Napoli': 'ITALIA', 'Barcellona': 'SPAGNA'}\n"
     ]
    }
   ],
   "source": [
    "elenco_CITTA = {k: v.upper() for k, v in elenco_citta.items()}\n",
    "print(elenco_CITTA)"
   ]
  },
  {
   "cell_type": "code",
   "execution_count": null,
   "id": "3a99b746",
   "metadata": {},
   "outputs": [],
   "source": []
  }
 ],
 "metadata": {
  "kernelspec": {
   "display_name": "Python 3 (ipykernel)",
   "language": "python",
   "name": "python3"
  },
  "language_info": {
   "codemirror_mode": {
    "name": "ipython",
    "version": 3
   },
   "file_extension": ".py",
   "mimetype": "text/x-python",
   "name": "python",
   "nbconvert_exporter": "python",
   "pygments_lexer": "ipython3",
   "version": "3.10.7"
  }
 },
 "nbformat": 4,
 "nbformat_minor": 5
}

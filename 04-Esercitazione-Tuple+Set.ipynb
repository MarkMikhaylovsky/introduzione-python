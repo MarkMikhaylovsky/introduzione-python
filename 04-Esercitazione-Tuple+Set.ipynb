{
 "cells": [
  {
   "cell_type": "markdown",
   "id": "0e2c6dd7",
   "metadata": {},
   "source": [
    "# Le Tuple\n",
    "### Definizione\n",
    "Sono collezioni di oggetti anche di diversa natura, e sono immutabili.\n",
    "\n",
    "È possibile accedervi come per le liste, con [ ] [ : ]"
   ]
  },
  {
   "cell_type": "code",
   "execution_count": 1,
   "id": "ccb543d3",
   "metadata": {},
   "outputs": [
    {
     "name": "stdout",
     "output_type": "stream",
     "text": [
      "('Ciao', 'a', 'tutti', 'i', 'presenti')\n",
      "tutti\n"
     ]
    }
   ],
   "source": [
    "t = ('Ciao', 'a', 'tutti', 'i', 'presenti')\n",
    "print(t)\n",
    "print(t[2])"
   ]
  },
  {
   "cell_type": "code",
   "execution_count": 2,
   "id": "4e64c54a",
   "metadata": {},
   "outputs": [
    {
     "name": "stdout",
     "output_type": "stream",
     "text": [
      "Impossibile modificare il valore della stringa\n"
     ]
    }
   ],
   "source": [
    "try:\n",
    "    t[0] = 'Prova'\n",
    "except:\n",
    "    print('Impossibile modificare il valore della stringa')"
   ]
  },
  {
   "cell_type": "markdown",
   "id": "56d012ba",
   "metadata": {},
   "source": [
    "### Operatori su insiemi"
   ]
  },
  {
   "cell_type": "code",
   "execution_count": 3,
   "id": "19737c52",
   "metadata": {},
   "outputs": [
    {
     "name": "stdout",
     "output_type": "stream",
     "text": [
      "False True\n"
     ]
    }
   ],
   "source": [
    "t = (1, 4, 9, 16, 25)\n",
    "print(5 in t, 9 in t)"
   ]
  },
  {
   "cell_type": "code",
   "execution_count": 4,
   "id": "b558f848",
   "metadata": {},
   "outputs": [
    {
     "name": "stdout",
     "output_type": "stream",
     "text": [
      "False True\n"
     ]
    }
   ],
   "source": [
    "l  = [n for n in t]\n",
    "print( 5 in l, 9 in l)"
   ]
  },
  {
   "cell_type": "code",
   "execution_count": 5,
   "id": "82bc5bb0",
   "metadata": {},
   "outputs": [
    {
     "name": "stdout",
     "output_type": "stream",
     "text": [
      "True True False\n"
     ]
    }
   ],
   "source": [
    "s = ''.join([str(n) for n in t])\n",
    "print('5' in s, '9' in s, '7' in s)"
   ]
  },
  {
   "cell_type": "markdown",
   "id": "3f9f4a68",
   "metadata": {},
   "source": [
    "*NB. ogni carattere della stringa viene valutato, non più i numeri originari*"
   ]
  },
  {
   "cell_type": "markdown",
   "id": "bd7975fe",
   "metadata": {},
   "source": [
    "### Particolarità\n",
    "Per inizializzare una tupla che contiene un solo elemento è necessario includere nella dichiarazione una virgola, in caso contrario le parentesi vengono interpetate come un'espressione e non come una dichiarazione di tupla"
   ]
  },
  {
   "cell_type": "code",
   "execution_count": 6,
   "id": "f5037e04",
   "metadata": {},
   "outputs": [
    {
     "name": "stdout",
     "output_type": "stream",
     "text": [
      "1 <class 'int'>\n",
      "(1,) <class 'tuple'>\n"
     ]
    }
   ],
   "source": [
    "t_solitaria = (1)\n",
    "print(t_solitaria, type(t_solitaria))\n",
    "t_solitaria = (1,)\n",
    "print(t_solitaria, type(t_solitaria))"
   ]
  },
  {
   "cell_type": "markdown",
   "id": "97088963",
   "metadata": {},
   "source": [
    "Cosi come per le stringhe le funzioni delle tuple restituiscono una nuova tupla, quindi possono essere riassegnate alla variabile, oppure possono essere trasformate in liste."
   ]
  },
  {
   "cell_type": "code",
   "execution_count": 7,
   "id": "1fc966c3",
   "metadata": {},
   "outputs": [
    {
     "name": "stdout",
     "output_type": "stream",
     "text": [
      "operazione non permessa\n",
      "(0, 1, 2, 'x', 4, 5)\n"
     ]
    }
   ],
   "source": [
    "t = (0,1,2,3,4,5)\n",
    "try:\n",
    "    t[3] = 'x'\n",
    "except:\n",
    "    print('operazione non permessa')\n",
    "l = list(t)\n",
    "l[3] = 'x'\n",
    "t = tuple(l)\n",
    "print(t)"
   ]
  },
  {
   "cell_type": "markdown",
   "id": "9c9b099c",
   "metadata": {},
   "source": [
    "Una tupla può contenere valori duplicati"
   ]
  },
  {
   "cell_type": "code",
   "execution_count": 8,
   "id": "1ebd91e6",
   "metadata": {},
   "outputs": [
    {
     "name": "stdout",
     "output_type": "stream",
     "text": [
      "(0, 0, 1, 1)\n"
     ]
    }
   ],
   "source": [
    "t = (0,0,1,1)\n",
    "print(t)"
   ]
  },
  {
   "cell_type": "markdown",
   "id": "321b6f90",
   "metadata": {},
   "source": [
    "# Set\n",
    "Come le tuple sono strutture che permettono di conservare molteplici elementi anche di tipo non omogeneo, sono però mutabili ed hanno degli operatori speciali. Non sono però strutture ordinate."
   ]
  },
  {
   "cell_type": "code",
   "execution_count": 9,
   "id": "1c228237",
   "metadata": {},
   "outputs": [
    {
     "name": "stdout",
     "output_type": "stream",
     "text": [
      "<class 'set'>\n"
     ]
    }
   ],
   "source": [
    "s = {0,0,1,1}\n",
    "print(set)"
   ]
  },
  {
   "cell_type": "code",
   "execution_count": 10,
   "id": "196cb23d",
   "metadata": {},
   "outputs": [
    {
     "name": "stdout",
     "output_type": "stream",
     "text": [
      "Il set non è una struttura ordinata\n"
     ]
    }
   ],
   "source": [
    "try:\n",
    "    s[0]\n",
    "except:\n",
    "    print('Il set non è una struttura ordinata')"
   ]
  },
  {
   "cell_type": "markdown",
   "id": "68e808a9",
   "metadata": {},
   "source": [
    "#### Operazioni  con i set"
   ]
  },
  {
   "cell_type": "code",
   "execution_count": 11,
   "id": "09185e61",
   "metadata": {},
   "outputs": [
    {
     "name": "stdout",
     "output_type": "stream",
     "text": [
      "{0, 1, 'x'}\n",
      "{0, 1}\n"
     ]
    }
   ],
   "source": [
    "s.add('x')\n",
    "print(s)\n",
    "s.remove('x')\n",
    "print(s)"
   ]
  },
  {
   "cell_type": "code",
   "execution_count": 16,
   "id": "2ac7bcec",
   "metadata": {},
   "outputs": [],
   "source": []
  },
  {
   "cell_type": "code",
   "execution_count": 17,
   "id": "60076573",
   "metadata": {},
   "outputs": [
    {
     "name": "stdout",
     "output_type": "stream",
     "text": [
      "ricerca in lista con operatore \"in\" eseguita in: 0.0020363330841064453\n"
     ]
    }
   ],
   "source": [
    "import time\n",
    "\n",
    "start = time.time()\n",
    "99999 in l_grande\n",
    "end = time.time()\n",
    "print('ricerca in lista con operatore \"in\" eseguita in:', (end-start))"
   ]
  },
  {
   "cell_type": "code",
   "execution_count": 18,
   "id": "179a93e0",
   "metadata": {},
   "outputs": [
    {
     "name": "stdout",
     "output_type": "stream",
     "text": [
      "ricerca in set con operatore \"in\" eseguita in: 0.0\n"
     ]
    }
   ],
   "source": [
    "start = time.time()\n",
    "99999 in s_grande\n",
    "end = time.time()\n",
    "print('ricerca in set con operatore \"in\" eseguita in:', (end-start))"
   ]
  },
  {
   "cell_type": "markdown",
   "id": "663ba74d",
   "metadata": {},
   "source": [
    "È possibile convertire anche una stringa in un set"
   ]
  },
  {
   "cell_type": "code",
   "execution_count": 19,
   "id": "6ffd1699",
   "metadata": {},
   "outputs": [
    {
     "name": "stdout",
     "output_type": "stream",
     "text": [
      "{'u', 'o', 't'}\n"
     ]
    }
   ],
   "source": [
    "str_to_set = set('tutto')\n",
    "print(str_to_set)"
   ]
  },
  {
   "cell_type": "markdown",
   "id": "5fade95f",
   "metadata": {},
   "source": [
    "#### Altri operatori sui set:"
   ]
  },
  {
   "cell_type": "markdown",
   "id": "e8f83ac2",
   "metadata": {},
   "source": [
    "*Unione:*"
   ]
  },
  {
   "cell_type": "code",
   "execution_count": 21,
   "id": "f4bc5a5c",
   "metadata": {},
   "outputs": [
    {
     "name": "stdout",
     "output_type": "stream",
     "text": [
      "{'c', 'a', 'b', 'C', 'B', 'A'}\n"
     ]
    }
   ],
   "source": [
    "maiusc = {'A', 'B', 'C'}\n",
    "minusc = {'a', 'b', 'c'}\n",
    "lettere = maiusc | minusc\n",
    "print(lettere)"
   ]
  },
  {
   "cell_type": "markdown",
   "id": "a3078186",
   "metadata": {},
   "source": [
    "*Intersezione:*"
   ]
  },
  {
   "cell_type": "code",
   "execution_count": 23,
   "id": "ba35c377",
   "metadata": {},
   "outputs": [
    {
     "name": "stdout",
     "output_type": "stream",
     "text": [
      "set()\n",
      "{'a'}\n"
     ]
    }
   ],
   "source": [
    "vocali_minuscole = {'a','e','i','o','u'}\n",
    "print(maiusc & minusc)\n",
    "print(minusc & vocali_minuscole)"
   ]
  },
  {
   "cell_type": "markdown",
   "id": "4a7ace93",
   "metadata": {},
   "source": [
    "*Differenza:*"
   ]
  },
  {
   "cell_type": "code",
   "execution_count": 26,
   "id": "8b4ce393",
   "metadata": {},
   "outputs": [
    {
     "name": "stdout",
     "output_type": "stream",
     "text": [
      "{'c', 'b'}\n"
     ]
    }
   ],
   "source": [
    "print(minusc - vocali_minuscole)"
   ]
  },
  {
   "cell_type": "markdown",
   "id": "cac7bb8a",
   "metadata": {},
   "source": [
    "*XOR:*"
   ]
  },
  {
   "cell_type": "code",
   "execution_count": 28,
   "id": "682a9203",
   "metadata": {},
   "outputs": [
    {
     "name": "stdout",
     "output_type": "stream",
     "text": [
      "{'i', 'b', 'c', 'e', 'o', 'u'}\n"
     ]
    }
   ],
   "source": [
    "print(minusc ^ vocali_minuscole)"
   ]
  },
  {
   "cell_type": "markdown",
   "id": "cb42de9f",
   "metadata": {},
   "source": [
    "#### Set Comprehension"
   ]
  },
  {
   "cell_type": "code",
   "execution_count": 29,
   "id": "309f7575",
   "metadata": {},
   "outputs": [
    {
     "name": "stdout",
     "output_type": "stream",
     "text": [
      "{0, 1, 64, 4, 36, 9, 16, 49, 81, 25}\n"
     ]
    }
   ],
   "source": [
    "set_quadrati = {n**2 for n in range(10)}\n",
    "print(set_quadrati)"
   ]
  },
  {
   "cell_type": "code",
   "execution_count": null,
   "id": "23afb6a4",
   "metadata": {},
   "outputs": [],
   "source": []
  }
 ],
 "metadata": {
  "kernelspec": {
   "display_name": "Python 3 (ipykernel)",
   "language": "python",
   "name": "python3"
  },
  "language_info": {
   "codemirror_mode": {
    "name": "ipython",
    "version": 3
   },
   "file_extension": ".py",
   "mimetype": "text/x-python",
   "name": "python",
   "nbconvert_exporter": "python",
   "pygments_lexer": "ipython3",
   "version": "3.10.7"
  }
 },
 "nbformat": 4,
 "nbformat_minor": 5
}

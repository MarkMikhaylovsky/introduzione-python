{
 "cells": [
  {
   "cell_type": "markdown",
   "id": "9bd26416",
   "metadata": {},
   "source": [
    "# Numeri in python\n",
    "Python utilizza oggetti complessi per la gestione dei numeri, a differenza di altri linguaggi di programmazione la memoria è gestita \"dinamicamente\", ovvero, per molti tipi di dato numerici non ci sono limiti architetturali di memoria se non quelli fisici."
   ]
  },
  {
   "cell_type": "code",
   "execution_count": 1,
   "id": "d8f9fb5a",
   "metadata": {},
   "outputs": [
    {
     "data": {
      "text/plain": [
       "float"
      ]
     },
     "execution_count": 1,
     "metadata": {},
     "output_type": "execute_result"
    }
   ],
   "source": [
    "type(1.5)"
   ]
  },
  {
   "cell_type": "markdown",
   "id": "62141463",
   "metadata": {},
   "source": [
    "I numerei decimali invece sono float, ovvero unp dei pochi tipi primitivi di python"
   ]
  },
  {
   "cell_type": "markdown",
   "id": "c242ab51",
   "metadata": {},
   "source": [
    "#### Possibili codifiche dei numeri in python:\n",
    "- Esadecimale (0x) :"
   ]
  },
  {
   "cell_type": "code",
   "execution_count": 2,
   "id": "60e41188",
   "metadata": {},
   "outputs": [
    {
     "data": {
      "text/plain": [
       "66547"
      ]
     },
     "execution_count": 2,
     "metadata": {},
     "output_type": "execute_result"
    }
   ],
   "source": [
    "0x103f3"
   ]
  },
  {
   "cell_type": "markdown",
   "id": "d4a9f9bb",
   "metadata": {},
   "source": [
    "- Binaria (0b):"
   ]
  },
  {
   "cell_type": "code",
   "execution_count": 3,
   "id": "71f1d1e7",
   "metadata": {},
   "outputs": [
    {
     "data": {
      "text/plain": [
       "41"
      ]
     },
     "execution_count": 3,
     "metadata": {},
     "output_type": "execute_result"
    }
   ],
   "source": [
    "0b0101001 "
   ]
  },
  {
   "cell_type": "markdown",
   "id": "c44aadfc",
   "metadata": {},
   "source": [
    "- Ottale (0o):"
   ]
  },
  {
   "cell_type": "code",
   "execution_count": 4,
   "id": "3af2f7d6",
   "metadata": {},
   "outputs": [
    {
     "data": {
      "text/plain": [
       "66"
      ]
     },
     "execution_count": 4,
     "metadata": {},
     "output_type": "execute_result"
    }
   ],
   "source": [
    "0o102"
   ]
  },
  {
   "cell_type": "markdown",
   "id": "474e3302",
   "metadata": {},
   "source": [
    "Python inoltre supporta nativamente i numeri complessi (a+bj)."
   ]
  },
  {
   "cell_type": "code",
   "execution_count": 5,
   "id": "a4fcd39f",
   "metadata": {},
   "outputs": [
    {
     "name": "stdout",
     "output_type": "stream",
     "text": [
      "(2+1j) <class 'complex'>\n"
     ]
    }
   ],
   "source": [
    "c = 2 + 1j\n",
    "print(c, type(c))"
   ]
  },
  {
   "cell_type": "code",
   "execution_count": 6,
   "id": "21188b2e",
   "metadata": {},
   "outputs": [
    {
     "name": "stdout",
     "output_type": "stream",
     "text": [
      "2.0\n",
      "1.0\n"
     ]
    }
   ],
   "source": [
    "print(c.real)\n",
    "print(c.imag)"
   ]
  },
  {
   "cell_type": "markdown",
   "id": "6ec94971",
   "metadata": {},
   "source": [
    "Inoltre tutte le operazioni matematiche fondamentali sono supportate"
   ]
  },
  {
   "cell_type": "code",
   "execution_count": 7,
   "id": "56aa6169",
   "metadata": {},
   "outputs": [
    {
     "name": "stdout",
     "output_type": "stream",
     "text": [
      "(2+15j)\n",
      "(-47+1j)\n"
     ]
    }
   ],
   "source": [
    "c_a = -1 + 4j\n",
    "c_b = 3 + 11j\n",
    "\n",
    "print(c_a + c_b)\n",
    "print(c_a * c_b)"
   ]
  },
  {
   "cell_type": "code",
   "execution_count": 8,
   "id": "cbe07b83",
   "metadata": {},
   "outputs": [
    {
     "name": "stdout",
     "output_type": "stream",
     "text": [
      "<class 'int'>\n",
      "<class 'complex'>\n"
     ]
    }
   ],
   "source": [
    "print(type(-1))\n",
    "print(type((-1)**0.5))"
   ]
  },
  {
   "cell_type": "markdown",
   "id": "cdcf89a5",
   "metadata": {},
   "source": [
    "# True, False, None"
   ]
  },
  {
   "cell_type": "code",
   "execution_count": 9,
   "id": "6ab45601",
   "metadata": {},
   "outputs": [
    {
     "data": {
      "text/plain": [
       "[24, 27, 30, 33, 36, 39, 42, 45, 48, 51]"
      ]
     },
     "execution_count": 9,
     "metadata": {},
     "output_type": "execute_result"
    }
   ],
   "source": [
    "[n for n in range(23, 52) if n % 3 == 0]"
   ]
  },
  {
   "cell_type": "code",
   "execution_count": 10,
   "id": "852feb9d",
   "metadata": {},
   "outputs": [
    {
     "data": {
      "text/plain": [
       "[24, -27, 30, -33, 36, -39, 42, -45, 48, -51]"
      ]
     },
     "execution_count": 10,
     "metadata": {},
     "output_type": "execute_result"
    }
   ],
   "source": [
    "[(n if n % 2 == 0 else -n) for n in range(23, 52) if n % 3 == 0]"
   ]
  },
  {
   "cell_type": "code",
   "execution_count": 11,
   "id": "46385ace",
   "metadata": {},
   "outputs": [
    {
     "name": "stdout",
     "output_type": "stream",
     "text": [
      "True False None\n",
      "\t    - Non è possibile eseguire operazioni su None\n"
     ]
    }
   ],
   "source": [
    "a = True\n",
    "b = False\n",
    "try: \n",
    "    c = 10/0\n",
    "except: \n",
    "    c = None\n",
    "print(a, b, c)\n",
    "try: \n",
    "    c + 2\n",
    "except: \n",
    "    print('\\t    - Non è possibile eseguire operazioni su None')"
   ]
  },
  {
   "cell_type": "markdown",
   "id": "f9b8da8c",
   "metadata": {},
   "source": [
    "## Esercizi:"
   ]
  },
  {
   "cell_type": "markdown",
   "id": "dec73a9b",
   "metadata": {},
   "source": [
    "1. Data una stringa \"s\" contare il numero di doppie presenti in essa"
   ]
  },
  {
   "cell_type": "code",
   "execution_count": 12,
   "id": "55a2c23e",
   "metadata": {},
   "outputs": [
    {
     "name": "stdout",
     "output_type": "stream",
     "text": [
      "1\n"
     ]
    }
   ],
   "source": [
    "s = 'sette'\n",
    "doppie = 0\n",
    "for i in range(len(s)-1):\n",
    "    if s[i]==s[i+1]:\n",
    "        doppie +=1\n",
    "print(doppie)"
   ]
  },
  {
   "cell_type": "markdown",
   "id": "bdbf5753",
   "metadata": {},
   "source": [
    "2. Creare un dizionario con le seguenti entries:\n",
    "    cane:domestico\n",
    "    gatto:domestico\n",
    "    leopardo:selvatico\n",
    "    zebra:selvatico\n",
    "   \n",
    "   creare una struttura che rovescia il dizionario che risulti in nuovo dizionario\n",
    "   “domestico”: [“cane”, “gatto”]\n",
    "   “selvatico”: [“leopardo”, “zebra”]\n"
   ]
  },
  {
   "cell_type": "code",
   "execution_count": 6,
   "id": "96448cff",
   "metadata": {},
   "outputs": [
    {
     "name": "stdout",
     "output_type": "stream",
     "text": [
      "domestico\n",
      "{'domestico': ['cane', 'gatto'], 'selvatico': ['leopardo', 'zebra']}\n"
     ]
    }
   ],
   "source": [
    "d = {\n",
    "    'cane': 'domestico',\n",
    "    'gatto' : 'domestico',\n",
    "    'leopardo' : 'selvatico',\n",
    "    'zebra' : 'selvatico',\n",
    "}\n",
    "\n",
    "dr = dict()\n",
    "for k, v in d.items():\n",
    "    if v in dr:\n",
    "        dr[v].append(k)\n",
    "    else:\n",
    "        dr[v]=[k]\n",
    "print(dr)"
   ]
  },
  {
   "cell_type": "markdown",
   "id": "453db43b",
   "metadata": {},
   "source": [
    "3. Dato l’elenco città sotto forma di dizionario uguale a quello che abbiamo visto nell’esercizio:\n",
    "    elenco_citta = dict()\n",
    "\n",
    "    Utilizza come identifictivo la chiave per salvare il valore\n",
    "    elenco_citta['Roma'] = 'Francia'\n",
    "\n",
    "    #Sovrascrivendo il valore corrispondente ad una chiave esistente verrà effettuata la sostituzione\n",
    "    elenco_citta['Roma'] = 'Italia'\n",
    "    elenco_citta['Napoli'] = 'Italia'\n",
    "    elenco_citta['Barcelona'] = 'Spagna'\n",
    "    print(elenco_citta)\n",
    "    \n",
    "    creare una lista dei soli nomi dei PAESI corrispondenti alle città che contengono la lettera “R” sia minuscola che maiuscola in modo tale che le lettere dei paesi siano invertite e che la prima lettera del paese sia maiuscola (mentre tutte le altre minuscole).\n",
    "    \n",
    "    R è in Roma ed in Barcelona\n",
    "    lista dei paesi [Italia, Spagna]\n",
    "    invertiamo le stringhe\n",
    "    [ailatI, angapS]\n",
    "    mettiamo a posto i caratteri maiuscoli e minuscoli come richiesto\n",
    "    [Ailati, Angaps]\n"
   ]
  },
  {
   "cell_type": "code",
   "execution_count": null,
   "id": "2a96cc97",
   "metadata": {},
   "outputs": [],
   "source": [
    "elenco_citta = dict()\n",
    "elenco_citta['Roma'] = 'Italia'\n",
    "elenco_citta['Napoli'] = 'Italia'\n",
    "elenco_citta['Barcellona'] = 'Spagna'\n",
    "elenco_reversed = [v[::-1].lower().title() for k, v in elenco_citta.items() if 'R' in k.upper()]\n",
    "print(elenco_reversed)"
   ]
  },
  {
   "cell_type": "code",
   "execution_count": null,
   "id": "5b052672",
   "metadata": {},
   "outputs": [],
   "source": []
  }
 ],
 "metadata": {
  "kernelspec": {
   "display_name": "Python 3 (ipykernel)",
   "language": "python",
   "name": "python3"
  },
  "language_info": {
   "codemirror_mode": {
    "name": "ipython",
    "version": 3
   },
   "file_extension": ".py",
   "mimetype": "text/x-python",
   "name": "python",
   "nbconvert_exporter": "python",
   "pygments_lexer": "ipython3",
   "version": "3.10.7"
  }
 },
 "nbformat": 4,
 "nbformat_minor": 5
}

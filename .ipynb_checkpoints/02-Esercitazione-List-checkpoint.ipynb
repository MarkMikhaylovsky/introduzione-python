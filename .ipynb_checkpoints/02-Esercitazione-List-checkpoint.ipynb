{
 "cells": [
  {
   "cell_type": "markdown",
   "id": "7685da3b",
   "metadata": {},
   "source": [
    "# Strutture dati\n",
    "IN molti casi è necessario conservare in una sola variabile un insieme di elementi, in questo caso si possono usare strutture di dati come le *liste*."
   ]
  },
  {
   "cell_type": "code",
   "execution_count": 1,
   "id": "9e296604",
   "metadata": {},
   "outputs": [],
   "source": [
    "elenco = [1, 3, 5, 7, 9, 1.5, -4.8, 'ciao']"
   ]
  },
  {
   "cell_type": "markdown",
   "id": "f7205dc0",
   "metadata": {},
   "source": [
    "Le liste possono contenere oggetti appartenenti a divesi tipi di dato, come interi e stringhe o altre liste.\n",
    "\n",
    "Per accedere ad uno degli elementi della lista viene indicato il cosidetto \"ndice della lista\" indicato come il numero racchiuso tra le parentesi quadre che segue il nome della variabile."
   ]
  },
  {
   "cell_type": "code",
   "execution_count": 2,
   "id": "8c9b9417",
   "metadata": {},
   "outputs": [
    {
     "name": "stdout",
     "output_type": "stream",
     "text": [
      "3\n"
     ]
    }
   ],
   "source": [
    "print(elenco[1])"
   ]
  },
  {
   "cell_type": "markdown",
   "id": "e37d41d5",
   "metadata": {},
   "source": [
    "*NB. l'indice parte sempre da 0, inoltre se metto un indice più grande della lista -1, ottengo un errore di index out of bound/range (index error)*"
   ]
  },
  {
   "cell_type": "code",
   "execution_count": 3,
   "id": "348a4721",
   "metadata": {},
   "outputs": [
    {
     "name": "stdout",
     "output_type": "stream",
     "text": [
      "index fuori dai valori consentiti\n"
     ]
    }
   ],
   "source": [
    "try:\n",
    "    print(elenco[20])\n",
    "except:\n",
    "    print('index fuori dai valori consentiti')"
   ]
  },
  {
   "cell_type": "markdown",
   "id": "da6df957",
   "metadata": {},
   "source": [
    "In molti casi è utile sapere il numero di elenti di una lista. Per fare ciò si usa la funzione built-in *len()*"
   ]
  },
  {
   "cell_type": "code",
   "execution_count": 4,
   "id": "87cb4f38",
   "metadata": {},
   "outputs": [
    {
     "data": {
      "text/plain": [
       "8"
      ]
     },
     "execution_count": 4,
     "metadata": {},
     "output_type": "execute_result"
    }
   ],
   "source": [
    "len(elenco)"
   ]
  },
  {
   "cell_type": "code",
   "execution_count": 5,
   "id": "b4a3e9ab",
   "metadata": {},
   "outputs": [
    {
     "name": "stdout",
     "output_type": "stream",
     "text": [
      "ciao\n",
      "ciao\n"
     ]
    }
   ],
   "source": [
    "print(elenco[len(elenco)-1])\n",
    "print(elenco[-1])"
   ]
  },
  {
   "cell_type": "markdown",
   "id": "68c52b9b",
   "metadata": {},
   "source": [
    "È possibile ottenere delle sublist utilizzando l'operatore \":\" all'interno delle parentesi quadre"
   ]
  },
  {
   "cell_type": "code",
   "execution_count": 6,
   "id": "d1ffd7b1",
   "metadata": {},
   "outputs": [
    {
     "name": "stdout",
     "output_type": "stream",
     "text": [
      "[1, 3, 5]\n",
      "[7, 9, 1.5, -4.8, 'ciao']\n",
      "[1, 3, 5, 7, 9, -4.8, 'ciao']\n"
     ]
    }
   ],
   "source": [
    "print(elenco[:3])\n",
    "print(elenco[3:])\n",
    "n = 5\n",
    "print(elenco[:n]+elenco[n+1:])"
   ]
  },
  {
   "cell_type": "markdown",
   "id": "59f19309",
   "metadata": {},
   "source": [
    "Quando manipoliamo una lista al fine di creare un sublist con l'operatore \":\", stiamo creando una nuova lista, che è indipendente dalla lista originale. Siccome questo operatore crea sempre una copia della lista, il modo più veloce di copiare una lista in python è il seguente"
   ]
  },
  {
   "cell_type": "code",
   "execution_count": 7,
   "id": "15198d49",
   "metadata": {},
   "outputs": [],
   "source": [
    "elenco_copy = elenco[:]"
   ]
  },
  {
   "cell_type": "markdown",
   "id": "8b61c5e3",
   "metadata": {},
   "source": [
    "Inoltre è possibile definire una lista vuota"
   ]
  },
  {
   "cell_type": "code",
   "execution_count": 8,
   "id": "9ea9eea0",
   "metadata": {},
   "outputs": [],
   "source": [
    "vuota = []"
   ]
  },
  {
   "cell_type": "markdown",
   "id": "81d0137e",
   "metadata": {},
   "source": [
    "Possiamo utilizzare delle funzioni per inserire in una lista un determinato elemento, concatenare le liste, appendere, eliminare ultimo elemento, remove, reverse e sort"
   ]
  },
  {
   "cell_type": "code",
   "execution_count": 9,
   "id": "56e308e3",
   "metadata": {},
   "outputs": [
    {
     "name": "stdout",
     "output_type": "stream",
     "text": [
      "[1, 3, 5, 7, 9, 1.5, -4.8, 'ciao']\n",
      "[1, 3, 5, 'python', 7, 9, 1.5, -4.8, 'ciao']\n",
      "[1, 3, 5, 'python', 7, 9, 1.5, -4.8, 'ciao', 1, 2, 3]\n",
      "[1, 3, 5, 'python', 7, 9, 1.5, -4.8, 1, 2, 3]\n",
      "[1, 3, 5, 'python', 7, 9, 1.5, -4.8, 1, 2]\n",
      "6\n",
      "[2, 1, -4.8, 1.5, 9, 7, 'python', 5, 3, 1]\n",
      "qualcosa è andato storto\n",
      "[-4.8, 1, 1, 1.5, 2, 3, 5, 7, 9]\n"
     ]
    }
   ],
   "source": [
    "print(elenco)\n",
    "elenco.insert(3, 'python')\n",
    "print(elenco)\n",
    "elenco.extend([1,2,3])\n",
    "print(elenco)\n",
    "elenco.remove('ciao')\n",
    "print(elenco)\n",
    "elenco.pop()\n",
    "print(elenco)\n",
    "try:\n",
    "    print(elenco.index(1.5))\n",
    "except: \n",
    "    print('elemento inesistente')\n",
    "elenco_copia = elenco[:]\n",
    "elenco_copia.reverse()\n",
    "print(elenco_copia)\n",
    "try:\n",
    "    elenco.sort()\n",
    "except:\n",
    "    print('qualcosa è andato storto')\n",
    "elenco.remove('python')\n",
    "elenco.sort()\n",
    "print(elenco)"
   ]
  },
  {
   "cell_type": "markdown",
   "id": "a2fb07e7",
   "metadata": {},
   "source": [
    "Utilizzo di range e di funzioni built-in combinate"
   ]
  },
  {
   "cell_type": "code",
   "execution_count": 10,
   "id": "0e5a158d",
   "metadata": {},
   "outputs": [
    {
     "name": "stdout",
     "output_type": "stream",
     "text": [
      "[0, 1, 2, 3, 4, 5, 6, 7, 8, 9]\n",
      "[0, 1, 2, 3, 4, 5, 6, 7, 8]\n"
     ]
    }
   ],
   "source": [
    "print(list(range(10)))\n",
    "print(list(range(len(elenco))))"
   ]
  },
  {
   "cell_type": "code",
   "execution_count": 11,
   "id": "f68f1770",
   "metadata": {},
   "outputs": [
    {
     "name": "stdout",
     "output_type": "stream",
     "text": [
      "range(0, 10)\n",
      "[10, 11, 12, 13, 14, 15, 16, 17, 18, 19]\n",
      "[10, 13, 16, 19]\n"
     ]
    }
   ],
   "source": [
    "print(range(10))\n",
    "print(list(range(10,20)))\n",
    "print(list(range(10,21,3)))"
   ]
  },
  {
   "cell_type": "markdown",
   "id": "0c3d3b5a",
   "metadata": {},
   "source": [
    "## List comprehension\n",
    "Ovvero sinstassi per la creazione delle liste"
   ]
  },
  {
   "cell_type": "code",
   "execution_count": 12,
   "id": "9d2960e1",
   "metadata": {},
   "outputs": [
    {
     "name": "stdout",
     "output_type": "stream",
     "text": [
      "[0, 1, 4, 9, 16, 25]\n"
     ]
    }
   ],
   "source": [
    "numeri = list(range(6))\n",
    "quadrati = [n**2 for n in numeri]\n",
    "print(quadrati)"
   ]
  },
  {
   "cell_type": "code",
   "execution_count": 13,
   "id": "547e9736",
   "metadata": {},
   "outputs": [
    {
     "name": "stdout",
     "output_type": "stream",
     "text": [
      "[0, 2, 4]\n"
     ]
    }
   ],
   "source": [
    "filtro_pari = [n for n in numeri if n%2 == 0]\n",
    "print(filtro_pari)"
   ]
  },
  {
   "cell_type": "code",
   "execution_count": 14,
   "id": "d4daaf5e",
   "metadata": {},
   "outputs": [
    {
     "name": "stdout",
     "output_type": "stream",
     "text": [
      "[1, 1, 1, 1, 1]\n",
      "[1, 1, 1, 1, 1]\n",
      "[1, 1, 1, 1, 1]\n",
      "[1, 1, 1, 1, 1]\n",
      "[1, 1, 1, 1, 1]\n"
     ]
    }
   ],
   "source": [
    "matrice = [[1 for x in range(5)] for x in range(5)]\n",
    "for riga in matrice:\n",
    "    print(riga)"
   ]
  },
  {
   "cell_type": "markdown",
   "id": "56d12fff",
   "metadata": {},
   "source": [
    "#### Task:\n",
    "- salvare la dimensione di una matrice in una variabile \"n\" generare matrici di dimensione diversa a seconda di n\n",
    "- trasformare il codice facendo in modo di produrre unba matrice identità di dimensione n"
   ]
  },
  {
   "cell_type": "code",
   "execution_count": 15,
   "id": "55f71880",
   "metadata": {},
   "outputs": [
    {
     "name": "stdout",
     "output_type": "stream",
     "text": [
      "[1, 1, 1, 1, 1, 1]\n",
      "[1, 1, 1, 1, 1, 1]\n",
      "[1, 1, 1, 1, 1, 1]\n",
      "[1, 1, 1, 1, 1, 1]\n",
      "[1, 1, 1, 1, 1, 1]\n",
      "[1, 1, 1, 1, 1, 1]\n",
      "\n",
      "[1, 0, 0, 0, 0, 0]\n",
      "[0, 1, 0, 0, 0, 0]\n",
      "[0, 0, 1, 0, 0, 0]\n",
      "[0, 0, 0, 1, 0, 0]\n",
      "[0, 0, 0, 0, 1, 0]\n",
      "[0, 0, 0, 0, 0, 1]\n"
     ]
    }
   ],
   "source": [
    "k = 6\n",
    "matrice_variabile = [[1 for x in range(k)] for x in range(k)]\n",
    "matrice_identita = [[ 1 if row == col else 0 for row in range(k)] for col in range(k)]\n",
    "\n",
    "for riga in matrice_variabile:\n",
    "    print(riga)\n",
    "print('')\n",
    "for riga in matrice_identita:\n",
    "    print(riga)"
   ]
  },
  {
   "cell_type": "code",
   "execution_count": null,
   "id": "3b22f5f9",
   "metadata": {},
   "outputs": [],
   "source": []
  }
 ],
 "metadata": {
  "kernelspec": {
   "display_name": "Python 3 (ipykernel)",
   "language": "python",
   "name": "python3"
  },
  "language_info": {
   "codemirror_mode": {
    "name": "ipython",
    "version": 3
   },
   "file_extension": ".py",
   "mimetype": "text/x-python",
   "name": "python",
   "nbconvert_exporter": "python",
   "pygments_lexer": "ipython3",
   "version": "3.10.7"
  }
 },
 "nbformat": 4,
 "nbformat_minor": 5
}

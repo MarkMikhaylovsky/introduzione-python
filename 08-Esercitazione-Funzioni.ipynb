{
 "cells": [
  {
   "cell_type": "markdown",
   "id": "2a2c7c72",
   "metadata": {},
   "source": [
    "# Funzioni\n",
    "## Ricorsione\n",
    "Python si accorge se una funzione è ricorsiva, quindi riesce ad ottimizzare le chiamate, o modificarla in runtime per renderla come se non fosse ricorsiva.\n",
    "Al contrario è anche però possibile ricevere errori di ricorsione se vengono fatte troppe chiamate che non riesce a gestire."
   ]
  },
  {
   "cell_type": "code",
   "execution_count": 1,
   "id": "80ab566a",
   "metadata": {},
   "outputs": [
    {
     "name": "stdout",
     "output_type": "stream",
     "text": [
      "3628800\n"
     ]
    }
   ],
   "source": [
    "def fattoriale(n):\n",
    "    if n<2:\n",
    "        return 1\n",
    "    return n*fattoriale(n-1)\n",
    "\n",
    "print(fattoriale(10))"
   ]
  },
  {
   "cell_type": "markdown",
   "id": "00b8063d",
   "metadata": {},
   "source": [
    "A livello di classificazione, si possono identificare 3 macro-categorie di eccezioni i.e. eventi che portano alla mancata esecizione corretta di un programma.\n",
    "\n",
    "1. eccezioni in runtime\n",
    "2. eccezioni programmatiche\n",
    "3. eccezioni sistemistiche\n",
    "\n",
    "#### Eccezioni Runtime\n",
    "Non possono essere previste prima dell'esecuzione del programma, perche dipendono dallo stato raggiunto dal programma a runtime, ad esempio un valore usato come divisore diventa 0, o accesso ad una variabile non inizializzata.\n",
    "\n",
    "#### Eccezioni Programmatiche\n",
    "Sono eccezioni che invece possono essere previste ed essere gestite da blocchi try-except, tipo la ricerca di un file a sistema\n",
    "\n",
    "#### Eccezioni Sistematiche\n",
    "La natura di queste eccezioni non è dovuta al codice ma con la compatibilità dei sistemi (Hardware)"
   ]
  },
  {
   "cell_type": "markdown",
   "id": "fe733e37",
   "metadata": {},
   "source": [
    "# Return\n",
    "Le funzioni possono ritornare più di un valore e tramite l'assegnazione, avviene l'unpacking dei valori"
   ]
  },
  {
   "cell_type": "code",
   "execution_count": 1,
   "id": "26f7b2d1",
   "metadata": {},
   "outputs": [
    {
     "name": "stdout",
     "output_type": "stream",
     "text": [
      "[1, 2] 3 ciao\n"
     ]
    }
   ],
   "source": [
    "def multiple_return():\n",
    "    return [1,2], 3, 'ciao'\n",
    "\n",
    "l, n, s = multiple_return()\n",
    "\n",
    "print(l, n, s)"
   ]
  },
  {
   "cell_type": "markdown",
   "id": "23c40486",
   "metadata": {},
   "source": [
    "# Argomenti\n",
    "Si possono usare dei paramentri facoltativi con valore di default. Gli argomenti facoltativi devo però essere messi dopo gli argomenti obbligatori."
   ]
  },
  {
   "cell_type": "code",
   "execution_count": 3,
   "id": "f62d2dbc",
   "metadata": {},
   "outputs": [
    {
     "name": "stdout",
     "output_type": "stream",
     "text": [
      "3\n"
     ]
    }
   ],
   "source": [
    "def somma(n1, n2, n3=0):\n",
    "    return n1 + n2 + n3\n",
    "\n",
    "print(somma(1,2))"
   ]
  },
  {
   "cell_type": "markdown",
   "id": "d31896d8",
   "metadata": {},
   "source": [
    "Si possono anche esplicitare i nomi degli argomenti, senza dover per forza seguire l'ordine in cui sono stati dichiarati nella funzione"
   ]
  },
  {
   "cell_type": "code",
   "execution_count": 4,
   "id": "9625a4c6",
   "metadata": {},
   "outputs": [
    {
     "name": "stdout",
     "output_type": "stream",
     "text": [
      "5\n"
     ]
    }
   ],
   "source": [
    "print(somma(n2=2, n3=1, n1=2))"
   ]
  },
  {
   "cell_type": "markdown",
   "id": "99ba6d28",
   "metadata": {},
   "source": [
    "Si può definire una funzione che prende in ingresso un elenco di paramentri non noti a priori."
   ]
  },
  {
   "cell_type": "code",
   "execution_count": 6,
   "id": "9f1d96cd",
   "metadata": {},
   "outputs": [
    {
     "name": "stdout",
     "output_type": "stream",
     "text": [
      "48\n"
     ]
    }
   ],
   "source": [
    "def indef_sum(*arg):\n",
    "    s = 0\n",
    "    for n in arg:\n",
    "        s += n\n",
    "    return s\n",
    "\n",
    "print(indef_sum(2,3,23,5,6,9))"
   ]
  },
  {
   "cell_type": "markdown",
   "id": "a9e202b3",
   "metadata": {},
   "source": [
    "Si può anche trasformare un elenco di parametri in un dizionario"
   ]
  },
  {
   "cell_type": "code",
   "execution_count": 8,
   "id": "008a1046",
   "metadata": {},
   "outputs": [
    {
     "name": "stdout",
     "output_type": "stream",
     "text": [
      "<class 'dict'>\n"
     ]
    }
   ],
   "source": [
    "def print_dict(**arg):\n",
    "    print(type(arg))\n",
    "    \n",
    "print_dict(key1='value1', inp=2, key2='ciao')"
   ]
  },
  {
   "cell_type": "markdown",
   "id": "ff214eb4",
   "metadata": {},
   "source": [
    "Inoltre le funzioni stesse possono essere passate come argomenti, ad esempio la funzione *map()*"
   ]
  },
  {
   "cell_type": "markdown",
   "id": "ec19c873",
   "metadata": {},
   "source": [
    "# Lambda \n",
    "Le lambda funcions sono funzioni anonime, che quindi non sono si possono richiamare durante il codice come le normali funzioni, ma può essere assegnata ad una variabile o passata come argomento.\n",
    "\n",
    "In python è possibile fare solo lambda one-line ed il return è implicito."
   ]
  },
  {
   "cell_type": "code",
   "execution_count": 10,
   "id": "f969e28b",
   "metadata": {},
   "outputs": [
    {
     "data": {
      "text/plain": [
       "<function __main__.<lambda>(a, b)>"
      ]
     },
     "execution_count": 10,
     "metadata": {},
     "output_type": "execute_result"
    }
   ],
   "source": [
    "# keyword arguments : body\n",
    "lambda a,b: a + b"
   ]
  },
  {
   "cell_type": "markdown",
   "id": "b4eb8a44",
   "metadata": {},
   "source": [
    "#### Example:"
   ]
  },
  {
   "cell_type": "code",
   "execution_count": 15,
   "id": "3b35a701",
   "metadata": {},
   "outputs": [
    {
     "data": {
      "text/plain": [
       "[0.1, 0.2, 0.3, 0.4]"
      ]
     },
     "execution_count": 15,
     "metadata": {},
     "output_type": "execute_result"
    }
   ],
   "source": [
    "list(map(lambda n: n/10, [1,2,3,4]))"
   ]
  },
  {
   "cell_type": "code",
   "execution_count": 18,
   "id": "165503ba",
   "metadata": {},
   "outputs": [
    {
     "name": "stdout",
     "output_type": "stream",
     "text": [
      "15\n"
     ]
    }
   ],
   "source": [
    "somma = lambda *n : sum(n)\n",
    "\n",
    "print(somma(1,2,3,4,5))"
   ]
  },
  {
   "cell_type": "markdown",
   "id": "df16c8c1",
   "metadata": {},
   "source": [
    "# Esercizi"
   ]
  },
  {
   "cell_type": "markdown",
   "id": "8c782353",
   "metadata": {},
   "source": [
    "1. Data una stringa, ritornare una lista delle sole NON vocali (consonanti, simboli) più frequenti “aaabbbcccdd” -> [b, c]"
   ]
  },
  {
   "cell_type": "code",
   "execution_count": 73,
   "id": "74b92ceb",
   "metadata": {},
   "outputs": [
    {
     "name": "stdout",
     "output_type": "stream",
     "text": [
      "['b', 'c']\n"
     ]
    }
   ],
   "source": [
    "s = 'aaabbbcccdd'\n",
    "\n",
    "def most_frequent(s,comp):\n",
    "    n = 0\n",
    "    l = []\n",
    "    for x in [c for c in set(s) if comp(c)]:\n",
    "        if s.count(x) > n:\n",
    "            l = [x]\n",
    "            n = s.count(x)\n",
    "        elif s.count(x) == n:\n",
    "            l += [x]\n",
    "    return l\n",
    "\n",
    "most_frequent_cons = lambda s: most_frequent(s, lambda c: c not in ['a', 'e', 'i', 'o', 'u'])\n",
    "print(most_frequent_cons(s))"
   ]
  },
  {
   "cell_type": "markdown",
   "id": "5f947fcb",
   "metadata": {},
   "source": [
    "2. data una lista di stringhe, creare (con dict comprehension) un dizionario che abbia come key la stringa e come value le vocali più frequenti nella stringa"
   ]
  },
  {
   "cell_type": "code",
   "execution_count": 72,
   "id": "df08dfca",
   "metadata": {},
   "outputs": [
    {
     "name": "stdout",
     "output_type": "stream",
     "text": [
      "dict_items([('aabbbcccdd', ['a']), ('sseerrfffdaa', ['e', 'a']), ('saasffefg', ['a'])])\n"
     ]
    }
   ],
   "source": [
    "l = ['aabbbcccdd', 'sseerrfffdaa', 'saasffefg']\n",
    "dict_vocali = {s: most_frequent(s, lambda c: c in ['a', 'e', 'i', 'o', 'u']) for s in l }\n",
    "\n",
    "print(dict_vocali.items())"
   ]
  },
  {
   "cell_type": "markdown",
   "id": "47ac93b4",
   "metadata": {},
   "source": [
    "3. dati due interi, trovare minimo comune multiplo, massimo comun divisore"
   ]
  },
  {
   "cell_type": "code",
   "execution_count": 69,
   "id": "c230508b",
   "metadata": {},
   "outputs": [
    {
     "name": "stdout",
     "output_type": "stream",
     "text": [
      "168\n",
      "8\n"
     ]
    }
   ],
   "source": [
    "def is_prime(n):\n",
    "    return [x for x in range(2,n) if n%x==0]==[]\n",
    "\n",
    "def prime_num(n):\n",
    "    return [x for x in range(2,n) if is_prime(x)]\n",
    "\n",
    "def fatt(n):\n",
    "    result = {}\n",
    "    l = prime_num(n)\n",
    "    while n > 1:\n",
    "        for i in range(len(l)-1):\n",
    "            if n % l[i] == 0:\n",
    "                n /= l[i]\n",
    "                if l[i] in result:\n",
    "                    result[l[i]] += 1\n",
    "                else:\n",
    "                    result[l[i]] = 1\n",
    "\n",
    "    return result\n",
    "   \n",
    "def mcm_mcd(n, m ui, comp):\n",
    "    result = 1\n",
    "    fatt_m = fatt(m)\n",
    "    fatt_n = fatt(n)\n",
    "    fatt_com = ui(fatt_m, fatt_n)\n",
    "    for x in fatt_com:\n",
    "        if x in fatt_m.keys() and x in fatt_n.keys():\n",
    "            result *= x**comp(fatt_m[x], fatt_n[x])\n",
    "        elif x in fatt_m.keys():\n",
    "            result *= x**fatt_m[x]\n",
    "        else:\n",
    "            result *= x**fatt_n[x]\n",
    "    return result    \n",
    "        \n",
    "mcm = lambda n, m: mcm_mcd(n, m, lambda d1, d2: set([k for k,v in d1.items()] + [k for k,v in d2.items()]), max)\n",
    "mcd = lambda n, m: mcm_mcd(n, m, lambda d1, d2: set([k for k,v in d1.items()]) & set([k for k,v in d2.items()]), min)\n",
    "\n",
    "print(mcm(24, 56))\n",
    "print(mcd(24, 56))"
   ]
  },
  {
   "cell_type": "markdown",
   "id": "4fde4e20",
   "metadata": {},
   "source": [
    "4. creare una funzione che possa sillabare delle parole secondo le regole più semplici (doppie, dittonghi/trittonghi comuni). possibile esempio di output:\n",
    "sillaba(‘patata’) -> pa-ta-ta, sillaba(‘casa’) -> ca-sa, sillaba(‘castello’) -> cas-tel-lo\n",
    "difficile farlo completo per via delle molte regole ma sono curioso di vedere come ragionate"
   ]
  },
  {
   "cell_type": "code",
   "execution_count": null,
   "id": "92526601",
   "metadata": {},
   "outputs": [],
   "source": [
    "def is_vocale(c):\n",
    "    return c in ['a', 'e', 'i', 'o', 'u']\n",
    "\n",
    "#Non si divide mai un gruppo formato da s + consonante/i\n",
    "def is_s_cons(s):\n",
    "    return s[0] == 's' and not is_vocale(s[1])\n",
    "    \n",
    "#Non si divide mai un gruppo di consonanti formato da b, c, d, f, g, p, t, v + l oppure r:\n",
    "def is_caso_consLR(s):\n",
    "    return s[0] in ['b', 'c', 'd', 'f', 'g', 'p', 't', 'v'] and s[1] in ['l', 'r']\n",
    "\n",
    "#Si dividono i gruppi costituiti da due consonanti uguali\n",
    "def is_doppia(s):\n",
    "    return not is_vocale(s[0]) and s[0] == s[1]\n",
    "\n",
    "# Nei gruppi consonantici formati da tre o più consonanti si divide prima della seconda consonante\n",
    "def is_tripla_cons(s):\n",
    "    return not is_vocale(s[0]) and not is_vocale(s[1]) and not is_vocale(s[2])\n",
    "    \n",
    "#Il dittongo è un gruppo costituito da una vocale preceduta da una semiconsonante o seguita da una semivocale\n",
    "def is_dittongo(s):\n",
    "    if not is_vocale(s[0]) or not is_vocale(s[1]):\n",
    "        return False\n",
    "    return (s[0] in ['i', 'u'] and s[1] in ['a', 'e', 'o', 'u']) or (s[1] in ['i', 'u'] and s[0] in ['a', 'e', 'o', 'u'])\n",
    "\n",
    "#quando invece si tratta di una vocale seguita da un dittongo, si può andare a capo dopo la vocale.\n",
    "def is_trittongo(s):\n",
    "    if not is_vocale(s[0]) or not is_vocale(s[1]) or not is_vocale(s[2]):\n",
    "        return not (s[0] in ['a', 'e', 'o'] and is_dittongo(s[1:]))\n",
    "casi = {\n",
    "    is_vocale: 2\n",
    "    is_caso_consLR: \n",
    "}\n",
    "    \n",
    "def divisione_sillabe(s):\n",
    "    l = []\n",
    "    if is_vocale(s[0]) and not is_vocale(s[1]): #Una vocale iniziale seguita da una sola consonante costituisce una sillaba\n",
    "        l += s[:2]\n",
    "        s = s[2:]\n",
    "    "
   ]
  },
  {
   "cell_type": "markdown",
   "id": "74cda91a",
   "metadata": {},
   "source": [
    "## all() & any()\n",
    "Sono funzioni built che prendono come argomento una collezione di booleani e ritornano true se tutti lo sono o se almeno uno lo è."
   ]
  },
  {
   "cell_type": "code",
   "execution_count": 77,
   "id": "611af90f",
   "metadata": {},
   "outputs": [
    {
     "name": "stdout",
     "output_type": "stream",
     "text": [
      "[True, True, True, True, False, False]\n"
     ]
    }
   ],
   "source": [
    "bool_list = [is_prime(n) for n in [2,3,5,13,22,34]]\n",
    "print(bool_list)"
   ]
  },
  {
   "cell_type": "code",
   "execution_count": 75,
   "id": "1b880a50",
   "metadata": {},
   "outputs": [
    {
     "data": {
      "text/plain": [
       "True"
      ]
     },
     "execution_count": 75,
     "metadata": {},
     "output_type": "execute_result"
    }
   ],
   "source": [
    "any(bool_list)"
   ]
  },
  {
   "cell_type": "code",
   "execution_count": 78,
   "id": "d7dcf48f",
   "metadata": {},
   "outputs": [
    {
     "data": {
      "text/plain": [
       "False"
      ]
     },
     "execution_count": 78,
     "metadata": {},
     "output_type": "execute_result"
    }
   ],
   "source": [
    "all(bool_list)"
   ]
  },
  {
   "cell_type": "code",
   "execution_count": null,
   "id": "e5e038be",
   "metadata": {},
   "outputs": [],
   "source": [
    "m"
   ]
  }
 ],
 "metadata": {
  "kernelspec": {
   "display_name": "Python 3 (ipykernel)",
   "language": "python",
   "name": "python3"
  },
  "language_info": {
   "codemirror_mode": {
    "name": "ipython",
    "version": 3
   },
   "file_extension": ".py",
   "mimetype": "text/x-python",
   "name": "python",
   "nbconvert_exporter": "python",
   "pygments_lexer": "ipython3",
   "version": "3.10.7"
  }
 },
 "nbformat": 4,
 "nbformat_minor": 5
}
